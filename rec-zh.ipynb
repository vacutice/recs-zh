{
 "cells": [
  {
   "cell_type": "code",
   "execution_count": null,
   "metadata": {},
   "outputs": [],
   "source": [
    "%matplotlib inline\n",
    "\n",
    "import numpy as np\n",
    "import matplotlib.pyplot as plt\n",
    "from PIL import Image, ImageDraw\n",
    "import os\n",
    "\n",
    "save_path = \"/mnt/g/wyc/datasets/doctmp/m\""
   ]
  },
  {
   "cell_type": "code",
   "execution_count": null,
   "metadata": {},
   "outputs": [],
   "source": [
    "title = 'T0'\n",
    "im_path = \"/mnt/g/wyc/datasets/sen12_npy/T0_jpg/S1A_20220324_S2B_20220417_stack_1626_1882_1405_1661_label.jpg\"\n",
    "sx,sy=130,200\n",
    "ss=170\n",
    "ia = Image.open(im_path)\n",
    "# ia.load()\n",
    "draw = ImageDraw.Draw(ia)\n",
    "draw.rounded_rectangle((sx, sy, sx+ss, sy+ss), fill=None, outline=\"#1DF9C3\",width=5, radius=13)\n",
    "plt.imshow(ia)\n",
    "plt.title(title)\n",
    "plt.show()\n",
    "ia.save(os.path.join(save_path,os.path.splitext(os.path.basename(im_path))[0]+'_'+title+'.png'),optimize=True)\n",
    "ia.close()"
   ]
  },
  {
   "cell_type": "code",
   "execution_count": null,
   "metadata": {},
   "outputs": [],
   "source": [
    "title = 'T0_l'\n",
    "im_path = \"/mnt/g/wyc/datasets/sen12_npy/T0_jpg/S1A_20220324_S2B_20220417_stack_1626_1882_1405_1661_label.jpg\"\n",
    "sx,sy=130,200\n",
    "ss=170\n",
    "ia = Image.open(im_path)\n",
    "cia = ia.crop((sx, sy, sx+ss, sy+ss))\n",
    "plt.imshow(cia)\n",
    "plt.title(title)\n",
    "plt.show()\n",
    "cia.save(os.path.join(save_path,os.path.splitext(os.path.basename(im_path))[0]+'_'+title+'.png'),optimize=True)\n",
    "ia.close()"
   ]
  },
  {
   "cell_type": "code",
   "execution_count": null,
   "metadata": {},
   "outputs": [],
   "source": [
    "title = 'T1'\n",
    "im_path = \"/mnt/g/wyc/datasets/sen12_npy/T1_jpg/S1A_20220324_S2B_20220417_stack_1626_1882_1405_1661_real_image.jpg\"\n",
    "sx,sy=130,200\n",
    "ss=170\n",
    "ia = Image.open(im_path)\n",
    "# ia.load()\n",
    "draw = ImageDraw.Draw(ia)\n",
    "draw.rounded_rectangle((sx, sy, sx+ss, sy+ss), fill=None, outline=\"#1DF9C3\",width=5, radius=13)\n",
    "plt.imshow(ia)\n",
    "plt.title(title)\n",
    "plt.show()\n",
    "ia.save(os.path.join(save_path,os.path.splitext(os.path.basename(im_path))[0]+'_'+title+'.png'),optimize=True)\n",
    "ia.close()"
   ]
  },
  {
   "cell_type": "code",
   "execution_count": null,
   "metadata": {},
   "outputs": [],
   "source": [
    "title = 'T1_l'\n",
    "im_path = \"/mnt/g/wyc/datasets/sen12_npy/T1_jpg/S1A_20220324_S2B_20220417_stack_1626_1882_1405_1661_real_image.jpg\"\n",
    "sx,sy=130,200\n",
    "ss=170\n",
    "ia = Image.open(im_path)\n",
    "cia = ia.crop((sx, sy, sx+ss, sy+ss))\n",
    "plt.imshow(cia)\n",
    "plt.title(title)\n",
    "plt.show()\n",
    "cia.save(os.path.join(save_path,os.path.splitext(os.path.basename(im_path))[0]+'_'+title+'.png'),optimize=True)\n",
    "ia.close()"
   ]
  },
  {
   "cell_type": "code",
   "execution_count": null,
   "metadata": {},
   "outputs": [],
   "source": [
    "title = 'Pix2Pix'\n",
    "im_path = \"/mnt/g/wyc/p2p_ckpts/p2p_big_scale/test_120/images/stack_20220417_20220312_1626_1882_1405_1661_fake_B.png\"\n",
    "sx,sy=130//2,200//2\n",
    "ss=170//2\n",
    "ia = Image.open(im_path)\n",
    "# ia.load()\n",
    "draw = ImageDraw.Draw(ia)\n",
    "draw.rounded_rectangle((sx, sy, sx+ss, sy+ss), fill=None, outline=\"#1DF9C3\",width=5//2, radius=13//2)\n",
    "plt.imshow(ia)\n",
    "plt.title(title)\n",
    "plt.show()\n",
    "ia.save(os.path.join(save_path,os.path.splitext(os.path.basename(im_path))[0]+'_'+title+'.png'),optimize=True)\n",
    "ia.close()"
   ]
  },
  {
   "cell_type": "code",
   "execution_count": null,
   "metadata": {},
   "outputs": [],
   "source": [
    "title = 'Pix2Pix_l'\n",
    "im_path = \"/mnt/g/wyc/p2p_ckpts/p2p_big_scale/test_120/images/stack_20220417_20220312_1626_1882_1405_1661_fake_B.png\"\n",
    "sx,sy=130//2,200//2\n",
    "ss=170//2\n",
    "ia = Image.open(im_path)\n",
    "cia = ia.crop((sx, sy, sx+ss, sy+ss))\n",
    "plt.imshow(cia)\n",
    "plt.title(title)\n",
    "plt.show()\n",
    "cia.save(os.path.join(save_path,os.path.splitext(os.path.basename(im_path))[0]+'_'+title+'.png'),optimize=True)\n",
    "ia.close()"
   ]
  },
  {
   "cell_type": "code",
   "execution_count": null,
   "metadata": {},
   "outputs": [],
   "source": [
    "title = 'Pix2PixHD'\n",
    "im_path = \"/mnt/g/wyc/t_attn_ckpts/e13_b/test_latest/images/stack_20220417_20220312_1626_1882_1405_1661_synthesized_image.jpg\"\n",
    "sx,sy=130,200\n",
    "ss=170\n",
    "ia = Image.open(im_path)\n",
    "# ia.load()\n",
    "draw = ImageDraw.Draw(ia)\n",
    "draw.rounded_rectangle((sx, sy, sx+ss, sy+ss), fill=None, outline=\"#1DF9C3\",width=5, radius=13)\n",
    "plt.imshow(ia)\n",
    "plt.title(title)\n",
    "plt.show()\n",
    "ia.save(os.path.join(save_path,os.path.splitext(os.path.basename(im_path))[0]+'_'+title+'.png'),optimize=True)\n",
    "ia.close()"
   ]
  },
  {
   "cell_type": "code",
   "execution_count": null,
   "metadata": {},
   "outputs": [],
   "source": [
    "title = 'Pix2PixHD_l'\n",
    "im_path = \"/mnt/g/wyc/t_attn_ckpts/e13_b/test_latest/images/stack_20220417_20220312_1626_1882_1405_1661_synthesized_image.jpg\"\n",
    "sx,sy=130,200\n",
    "ss=170\n",
    "ia = Image.open(im_path)\n",
    "cia = ia.crop((sx, sy, sx+ss, sy+ss))\n",
    "plt.imshow(cia)\n",
    "plt.title(title)\n",
    "plt.show()\n",
    "cia.save(os.path.join(save_path,os.path.splitext(os.path.basename(im_path))[0]+'_'+title+'.png'),optimize=True)\n",
    "ia.close()"
   ]
  },
  {
   "cell_type": "code",
   "execution_count": null,
   "metadata": {},
   "outputs": [],
   "source": [
    "title = 'Ours'\n",
    "im_path = \"/mnt/g/wyc/t_attn_ckpts/e15/test_120/images/stack_20220417_20220312_1626_1882_1405_1661_synthesized_image.jpg\"\n",
    "sx,sy=130,200\n",
    "ss=170\n",
    "ia = Image.open(im_path)\n",
    "# ia.load()\n",
    "draw = ImageDraw.Draw(ia)\n",
    "draw.rounded_rectangle((sx, sy, sx+ss, sy+ss), fill=None, outline=\"#1DF9C3\",width=5, radius=13)\n",
    "plt.imshow(ia)\n",
    "plt.title(title)\n",
    "plt.show()\n",
    "ia.save(os.path.join(save_path,os.path.splitext(os.path.basename(im_path))[0]+'_'+title+'.png'),optimize=True)\n",
    "ia.close()"
   ]
  },
  {
   "cell_type": "code",
   "execution_count": null,
   "metadata": {},
   "outputs": [],
   "source": [
    "title = 'Ours_l'\n",
    "im_path = \"/mnt/g/wyc/t_attn_ckpts/e15/test_120/images/stack_20220417_20220312_1626_1882_1405_1661_synthesized_image.jpg\"\n",
    "sx,sy=130,200\n",
    "ss=170\n",
    "ia = Image.open(im_path)\n",
    "cia = ia.crop((sx, sy, sx+ss, sy+ss))\n",
    "plt.imshow(cia)\n",
    "plt.title(title)\n",
    "plt.show()\n",
    "cia.save(os.path.join(save_path,os.path.splitext(os.path.basename(im_path))[0]+'_'+title+'.png'),optimize=True)\n",
    "ia.close()"
   ]
  },
  {
   "cell_type": "code",
   "execution_count": null,
   "metadata": {},
   "outputs": [],
   "source": [
    "title = 'T0'\n",
    "im_path = \"/mnt/g/wyc/datasets/sen12_npy/T0_jpg/S1A_20220324_S2B_20220417_stack_2138_2394_3709_3965.jpg\"\n",
    "sx,sy=130,200\n",
    "ss=170\n",
    "ia = Image.open(im_path)\n",
    "# ia.load()\n",
    "draw = ImageDraw.Draw(ia)\n",
    "draw.rounded_rectangle((sx, sy, sx+ss, sy+ss), fill=None, outline=\"#1DF9C3\",width=5, radius=13)\n",
    "plt.imshow(ia)\n",
    "plt.title(title)\n",
    "plt.show()\n",
    "ia.save(os.path.join(save_path,os.path.splitext(os.path.basename(im_path))[0]+'_'+title+'.png'),optimize=True)\n",
    "ia.close()"
   ]
  },
  {
   "cell_type": "code",
   "execution_count": null,
   "metadata": {},
   "outputs": [],
   "source": [
    "title = 'T0_l'\n",
    "im_path = \"/mnt/g/wyc/datasets/sen12_npy/T0_jpg/S1A_20220324_S2B_20220417_stack_2138_2394_3709_3965_label.jpg\"\n",
    "sx,sy=130,200\n",
    "ss=170\n",
    "ia = Image.open(im_path)\n",
    "cia = ia.crop((sx, sy, sx+ss, sy+ss))\n",
    "plt.imshow(cia)\n",
    "plt.title(title)\n",
    "plt.show()\n",
    "cia.save(os.path.join(save_path,os.path.splitext(os.path.basename(im_path))[0]+'_'+title+'.png'),optimize=True)\n",
    "ia.close()"
   ]
  },
  {
   "cell_type": "code",
   "execution_count": null,
   "metadata": {},
   "outputs": [],
   "source": [
    "title = 'T1'\n",
    "im_path = \"/mnt/g/wyc/datasets/sen12_npy/T1_jpg/S1A_20220324_S2B_20220417_stack_2138_2394_3709_3965_real_image.jpg\"\n",
    "sx,sy=130,200\n",
    "ss=170\n",
    "ia = Image.open(im_path)\n",
    "# ia.load()\n",
    "draw = ImageDraw.Draw(ia)\n",
    "draw.rounded_rectangle((sx, sy, sx+ss, sy+ss), fill=None, outline=\"#1DF9C3\",width=5, radius=13)\n",
    "plt.imshow(ia)\n",
    "plt.title(title)\n",
    "plt.show()\n",
    "ia.save(os.path.join(save_path,os.path.splitext(os.path.basename(im_path))[0]+'_'+title+'.png'),optimize=True)\n",
    "ia.close()"
   ]
  },
  {
   "cell_type": "code",
   "execution_count": null,
   "metadata": {},
   "outputs": [],
   "source": [
    "title = 'T1_l'\n",
    "im_path = \"/mnt/g/wyc/datasets/sen12_npy/T1_jpg/S1A_20220324_S2B_20220417_stack_2138_2394_3709_3965_real_image.jpg\"\n",
    "sx,sy=130,200\n",
    "ss=170\n",
    "ia = Image.open(im_path)\n",
    "cia = ia.crop((sx, sy, sx+ss, sy+ss))\n",
    "plt.imshow(cia)\n",
    "plt.title(title)\n",
    "plt.show()\n",
    "cia.save(os.path.join(save_path,os.path.splitext(os.path.basename(im_path))[0]+'_'+title+'.png'),optimize=True)\n",
    "ia.close()"
   ]
  },
  {
   "cell_type": "code",
   "execution_count": null,
   "metadata": {},
   "outputs": [],
   "source": [
    "title = 'Pix2Pix'\n",
    "im_path = \"/mnt/g/wyc/p2p_ckpts/p2p_big_scale/test_120/images/stack_20220417_20220312_2138_2394_3709_3965_fake_B.png\"\n",
    "sx,sy=130//2,200//2\n",
    "ss=170//2\n",
    "ia = Image.open(im_path)\n",
    "# ia.load()\n",
    "draw = ImageDraw.Draw(ia)\n",
    "draw.rounded_rectangle((sx, sy, sx+ss, sy+ss), fill=None, outline=\"#1DF9C3\",width=5//2, radius=13//2)\n",
    "plt.imshow(ia)\n",
    "plt.title(title)\n",
    "plt.show()\n",
    "ia.save(os.path.join(save_path,os.path.splitext(os.path.basename(im_path))[0]+'_'+title+'.png'),optimize=True)\n",
    "ia.close()"
   ]
  },
  {
   "cell_type": "code",
   "execution_count": null,
   "metadata": {},
   "outputs": [],
   "source": [
    "title = 'Pix2Pix_l'\n",
    "im_path = \"/mnt/g/wyc/p2p_ckpts/p2p_big_scale/test_120/images/stack_20220417_20220312_2138_2394_3709_3965_fake_B.png\"\n",
    "sx,sy=130//2,200//2\n",
    "ss=170//2\n",
    "ia = Image.open(im_path)\n",
    "cia = ia.crop((sx, sy, sx+ss, sy+ss))\n",
    "plt.imshow(cia)\n",
    "plt.title(title)\n",
    "plt.show()\n",
    "cia.save(os.path.join(save_path,os.path.splitext(os.path.basename(im_path))[0]+'_'+title+'.png'),optimize=True)\n",
    "ia.close()"
   ]
  },
  {
   "cell_type": "code",
   "execution_count": null,
   "metadata": {},
   "outputs": [],
   "source": [
    "title = 'Pix2PixHD'\n",
    "im_path = \"/mnt/g/wyc/t_attn_ckpts/e13_b/test_latest/images/stack_20220417_20220312_2138_2394_3709_3965_synthesized_image.jpg\"\n",
    "sx,sy=130,200\n",
    "ss=170\n",
    "ia = Image.open(im_path)\n",
    "# ia.load()\n",
    "draw = ImageDraw.Draw(ia)\n",
    "draw.rounded_rectangle((sx, sy, sx+ss, sy+ss), fill=None, outline=\"#1DF9C3\",width=5, radius=13)\n",
    "plt.imshow(ia)\n",
    "plt.title(title)\n",
    "plt.show()\n",
    "ia.save(os.path.join(save_path,os.path.splitext(os.path.basename(im_path))[0]+'_'+title+'.png'),optimize=True)\n",
    "ia.close()"
   ]
  },
  {
   "cell_type": "code",
   "execution_count": null,
   "metadata": {},
   "outputs": [],
   "source": [
    "title = 'Pix2PixHD_l'\n",
    "im_path = \"/mnt/g/wyc/t_attn_ckpts/e13_b/test_latest/images/stack_20220417_20220312_1626_1882_1405_1661_synthesized_image.jpg\"\n",
    "sx,sy=130,200\n",
    "ss=170\n",
    "ia = Image.open(im_path)\n",
    "cia = ia.crop((sx, sy, sx+ss, sy+ss))\n",
    "plt.imshow(cia)\n",
    "plt.title(title)\n",
    "plt.show()\n",
    "cia.save(os.path.join(save_path,os.path.splitext(os.path.basename(im_path))[0]+'_'+title+'.png'),optimize=True)\n",
    "ia.close()"
   ]
  },
  {
   "cell_type": "code",
   "execution_count": null,
   "metadata": {},
   "outputs": [],
   "source": [
    "title = 'Ours'\n",
    "im_path = \"/mnt/g/wyc/t_attn_ckpts/e15/test_120/images/stack_20220417_20220312_1626_1882_1405_1661_synthesized_image.jpg\"\n",
    "sx,sy=130,200\n",
    "ss=170\n",
    "ia = Image.open(im_path)\n",
    "# ia.load()\n",
    "draw = ImageDraw.Draw(ia)\n",
    "draw.rounded_rectangle((sx, sy, sx+ss, sy+ss), fill=None, outline=\"#1DF9C3\",width=5, radius=13)\n",
    "plt.imshow(ia)\n",
    "plt.title(title)\n",
    "plt.show()\n",
    "ia.save(os.path.join(save_path,os.path.splitext(os.path.basename(im_path))[0]+'_'+title+'.png'),optimize=True)\n",
    "ia.close()"
   ]
  },
  {
   "cell_type": "code",
   "execution_count": null,
   "metadata": {},
   "outputs": [],
   "source": [
    "title = 'Ours_l'\n",
    "im_path = \"/mnt/g/wyc/t_attn_ckpts/e15/test_120/images/stack_20220417_20220312_1626_1882_1405_1661_synthesized_image.jpg\"\n",
    "sx,sy=130,200\n",
    "ss=170\n",
    "ia = Image.open(im_path)\n",
    "cia = ia.crop((sx, sy, sx+ss, sy+ss))\n",
    "plt.imshow(cia)\n",
    "plt.title(title)\n",
    "plt.show()\n",
    "cia.save(os.path.join(save_path,os.path.splitext(os.path.basename(im_path))[0]+'_'+title+'.png'),optimize=True)\n",
    "ia.close()"
   ]
  },
  {
   "cell_type": "code",
   "execution_count": null,
   "metadata": {},
   "outputs": [],
   "source": [
    "# "
   ]
  },
  {
   "cell_type": "code",
   "execution_count": null,
   "metadata": {},
   "outputs": [],
   "source": [
    "title = 'T0'\n",
    "im_path = \"/mnt/g/wyc/datasets/sen12_npy.s/T0_JPG/stack1_9444_9700_4352_4608_label.jpg\"\n",
    "sx,sy=240,320\n",
    "ss=170\n",
    "ia = Image.open(im_path)\n",
    "# ia.load()\n",
    "draw = ImageDraw.Draw(ia)\n",
    "draw.rounded_rectangle((sx, sy, sx+ss, sy+ss), fill=None, outline=\"#1DF9C3\",width=5, radius=13)\n",
    "plt.imshow(ia)\n",
    "plt.title(title)\n",
    "plt.show()\n",
    "ia.save(os.path.join(save_path,os.path.splitext(os.path.basename(im_path))[0]+'_'+title+'.png'),optimize=True)\n",
    "ia.close()"
   ]
  },
  {
   "cell_type": "code",
   "execution_count": null,
   "metadata": {},
   "outputs": [],
   "source": [
    "title = 'T0_l'\n",
    "im_path = \"/mnt/g/wyc/datasets/sen12_npy.s/T0_JPG/stack1_9444_9700_4352_4608_label.jpg\"\n",
    "sx,sy=240,320\n",
    "ss=170\n",
    "ia = Image.open(im_path)\n",
    "cia = ia.crop((sx, sy, sx+ss, sy+ss))\n",
    "plt.imshow(cia)\n",
    "plt.title(title)\n",
    "plt.show()\n",
    "cia.save(os.path.join(save_path,os.path.splitext(os.path.basename(im_path))[0]+'_'+title+'.png'),optimize=True)\n",
    "ia.close()"
   ]
  },
  {
   "cell_type": "code",
   "execution_count": null,
   "metadata": {},
   "outputs": [],
   "source": [
    "title = 'T1'\n",
    "im_path = \"/mnt/g/wyc/datasets/sen12_npy.s/T1_jpg/stack1_9444_9700_4352_4608_real_image.jpg\"\n",
    "sx,sy=240,320\n",
    "ss=170\n",
    "ia = Image.open(im_path)\n",
    "# ia.load()\n",
    "draw = ImageDraw.Draw(ia)\n",
    "draw.rounded_rectangle((sx, sy, sx+ss, sy+ss), fill=None, outline=\"#1DF9C3\",width=5, radius=13)\n",
    "plt.imshow(ia)\n",
    "plt.title(title)\n",
    "plt.show()\n",
    "ia.save(os.path.join(save_path,os.path.splitext(os.path.basename(im_path))[0]+'_'+title+'.png'),optimize=True)\n",
    "ia.close()"
   ]
  },
  {
   "cell_type": "code",
   "execution_count": null,
   "metadata": {},
   "outputs": [],
   "source": [
    "title = 'T1_l'\n",
    "im_path = \"/mnt/g/wyc/datasets/sen12_npy.s/T1_jpg/stack1_9444_9700_4352_4608_real_image.jpg\"\n",
    "sx,sy=240,320\n",
    "ss=170\n",
    "ia = Image.open(im_path)\n",
    "cia = ia.crop((sx, sy, sx+ss, sy+ss))\n",
    "plt.imshow(cia)\n",
    "plt.title(title)\n",
    "plt.show()\n",
    "cia.save(os.path.join(save_path,os.path.splitext(os.path.basename(im_path))[0]+'_'+title+'.png'),optimize=True)\n",
    "ia.close()"
   ]
  },
  {
   "cell_type": "code",
   "execution_count": null,
   "metadata": {},
   "outputs": [],
   "source": [
    "title = 'Pix2PixHD'\n",
    "im_path = \"/mnt/g/wyc/t_attn_ckpts/e9/test_120/images/stack1_9444_9700_4352_4608_synthesized_image.jpg\"\n",
    "sx,sy=240,320\n",
    "ss=170\n",
    "ia = Image.open(im_path)\n",
    "# ia.load()\n",
    "draw = ImageDraw.Draw(ia)\n",
    "draw.rounded_rectangle((sx, sy, sx+ss, sy+ss), fill=None, outline=\"#1DF9C3\",width=5, radius=13)\n",
    "plt.imshow(ia)\n",
    "plt.title(title)\n",
    "plt.show()\n",
    "ia.save(os.path.join(save_path,os.path.splitext(os.path.basename(im_path))[0]+'_'+title+'.png'),optimize=True)\n",
    "ia.close()"
   ]
  },
  {
   "cell_type": "code",
   "execution_count": null,
   "metadata": {},
   "outputs": [],
   "source": [
    "title = 'Pix2PixHD_l'\n",
    "im_path = \"/mnt/g/wyc/t_attn_ckpts/e9/test_120/images/stack1_9444_9700_4352_4608_synthesized_image.jpg\"\n",
    "sx,sy=240,320\n",
    "ss=170\n",
    "ia = Image.open(im_path)\n",
    "cia = ia.crop((sx, sy, sx+ss, sy+ss))\n",
    "plt.imshow(cia)\n",
    "plt.title(title)\n",
    "plt.show()\n",
    "cia.save(os.path.join(save_path,os.path.splitext(os.path.basename(im_path))[0]+'_'+title+'.png'),optimize=True)\n",
    "ia.close()"
   ]
  },
  {
   "cell_type": "code",
   "execution_count": null,
   "metadata": {},
   "outputs": [],
   "source": [
    "title = 'PSP'\n",
    "im_path = \"/mnt/g/wyc/psp_ckpts/e3/inference_results/stack1_9444_9700_4352_4608.npy.png\"\n",
    "sx,sy=240//2,320//2\n",
    "ss=170//2\n",
    "ia = Image.open(im_path)\n",
    "# ia.load()\n",
    "draw = ImageDraw.Draw(ia)\n",
    "draw.rounded_rectangle((sx, sy, sx+ss, sy+ss), fill=None, outline=\"#1DF9C3\",width=5//2, radius=13//2)\n",
    "plt.imshow(ia)\n",
    "plt.title(title)\n",
    "plt.show()\n",
    "ia.save(os.path.join(save_path,os.path.splitext(os.path.basename(im_path))[0]+'_'+title+'.png'),optimize=True)\n",
    "ia.close()"
   ]
  },
  {
   "cell_type": "code",
   "execution_count": null,
   "metadata": {},
   "outputs": [],
   "source": [
    "title = 'PSP_l'\n",
    "im_path = \"/mnt/g/wyc/psp_ckpts/e3/inference_results/stack1_9444_9700_4352_4608.npy.png\"\n",
    "sx,sy=240//2,320//2\n",
    "ss=170//2\n",
    "ia = Image.open(im_path)\n",
    "cia = ia.crop((sx, sy, sx+ss, sy+ss))\n",
    "plt.imshow(cia)\n",
    "plt.title(title)\n",
    "plt.show()\n",
    "cia.save(os.path.join(save_path,os.path.splitext(os.path.basename(im_path))[0]+'_'+title+'.png'),optimize=True)\n",
    "ia.close()"
   ]
  },
  {
   "cell_type": "code",
   "execution_count": null,
   "metadata": {},
   "outputs": [],
   "source": [
    "title = 'Selection-GAN'\n",
    "im_path = \"/mnt/g/wyc/selection_gan_ckpts/test_latest/images/stack1_9444_9700_4352_4608_I.png\"\n",
    "sx,sy=240//2,320//2\n",
    "ss=170//2\n",
    "ia = Image.open(im_path)\n",
    "# ia.load()\n",
    "draw = ImageDraw.Draw(ia)\n",
    "draw.rounded_rectangle((sx, sy, sx+ss, sy+ss), fill=None, outline=\"#1DF9C3\",width=5//2, radius=13//2)\n",
    "plt.imshow(ia)\n",
    "plt.title(title)\n",
    "plt.show()\n",
    "ia.save(os.path.join(save_path,os.path.splitext(os.path.basename(im_path))[0]+'_'+title+'.png'),optimize=True)\n",
    "ia.close()"
   ]
  },
  {
   "cell_type": "code",
   "execution_count": null,
   "metadata": {},
   "outputs": [],
   "source": [
    "title = 'Selection-GAN_l'\n",
    "im_path = \"/mnt/g/wyc/selection_gan_ckpts/test_latest/images/stack1_9444_9700_4352_4608_I.png\"\n",
    "sx,sy=240//2,320//2\n",
    "ss=170//2\n",
    "ia = Image.open(im_path)\n",
    "cia = ia.crop((sx, sy, sx+ss, sy+ss))\n",
    "plt.imshow(cia)\n",
    "plt.title(title)\n",
    "plt.show()\n",
    "cia.save(os.path.join(save_path,os.path.splitext(os.path.basename(im_path))[0]+'_'+title+'.png'),optimize=True)\n",
    "ia.close()"
   ]
  },
  {
   "cell_type": "code",
   "execution_count": null,
   "metadata": {},
   "outputs": [],
   "source": [
    "title = 'CHAN'\n",
    "im_path = \"/mnt/g/wyc/CHAN_ckpts/test/stack1_9444_9700_4352_4608.npy.jpg\"\n",
    "sx,sy=240//2,320//2\n",
    "ss=170//2\n",
    "ia = Image.open(im_path)\n",
    "# ia.load()\n",
    "draw = ImageDraw.Draw(ia)\n",
    "draw.rounded_rectangle((sx, sy, sx+ss, sy+ss), fill=None, outline=\"#1DF9C3\",width=5//2, radius=13//2)\n",
    "plt.imshow(ia)\n",
    "plt.title(title)\n",
    "plt.show()\n",
    "ia.save(os.path.join(save_path,os.path.splitext(os.path.basename(im_path))[0]+'_'+title+'.png'),optimize=True)\n",
    "ia.close()"
   ]
  },
  {
   "cell_type": "code",
   "execution_count": null,
   "metadata": {},
   "outputs": [],
   "source": [
    "title = 'CHAN_l'\n",
    "im_path = \"/mnt/g/wyc/CHAN_ckpts/test/stack1_9444_9700_4352_4608.npy.jpg\"\n",
    "sx,sy=240//2,320//2\n",
    "ss=170//2\n",
    "ia = Image.open(im_path)\n",
    "cia = ia.crop((sx, sy, sx+ss, sy+ss))\n",
    "plt.imshow(cia)\n",
    "plt.title(title)\n",
    "plt.show()\n",
    "cia.save(os.path.join(save_path,os.path.splitext(os.path.basename(im_path))[0]+'_'+title+'.png'),optimize=True)\n",
    "ia.close()"
   ]
  },
  {
   "cell_type": "code",
   "execution_count": null,
   "metadata": {},
   "outputs": [],
   "source": [
    "title = 'VQGAN'\n",
    "im_path = \"/mnt/g/wyc/taming_transformer/test/reconstructions_gs-000041_e-000000_b-000078.png\"\n",
    "sx,sy=240//2,320//2\n",
    "ss=170//2\n",
    "ia = Image.open(im_path)\n",
    "# ia.load()\n",
    "draw = ImageDraw.Draw(ia)\n",
    "draw.rounded_rectangle((sx, sy, sx+ss, sy+ss), fill=None, outline=\"#1DF9C3\",width=5//2, radius=13//2)\n",
    "plt.imshow(ia)\n",
    "plt.title(title)\n",
    "plt.show()\n",
    "ia.save(os.path.join(save_path,os.path.splitext(os.path.basename(im_path))[0]+'_'+title+'.png'),optimize=True)\n",
    "ia.close()"
   ]
  },
  {
   "cell_type": "code",
   "execution_count": null,
   "metadata": {},
   "outputs": [],
   "source": [
    "title = 'Ours'\n",
    "im_path = \"/mnt/g/wyc/t_attn_ckpts/e16/test_latest/images/stack1_9444_9700_4352_4608_synthesized_image.jpg\"\n",
    "sx,sy=240,320\n",
    "ss=170\n",
    "ia = Image.open(im_path)\n",
    "# ia.load()\n",
    "draw = ImageDraw.Draw(ia)\n",
    "draw.rounded_rectangle((sx, sy, sx+ss, sy+ss), fill=None, outline=\"#1DF9C3\",width=5, radius=13)\n",
    "plt.imshow(ia)\n",
    "plt.title(title)\n",
    "plt.show()\n",
    "ia.save(os.path.join(save_path,os.path.splitext(os.path.basename(im_path))[0]+'_'+title+'.png'),optimize=True)\n",
    "ia.close()"
   ]
  },
  {
   "cell_type": "code",
   "execution_count": null,
   "metadata": {},
   "outputs": [],
   "source": [
    "title = 'Ours_l'\n",
    "im_path = \"/mnt/g/wyc/t_attn_ckpts/e16/test_latest/images/stack1_9444_9700_4352_4608_synthesized_image.jpg\"\n",
    "sx,sy=240,320\n",
    "ss=170\n",
    "ia = Image.open(im_path)\n",
    "cia = ia.crop((sx, sy, sx+ss, sy+ss))\n",
    "plt.imshow(cia)\n",
    "plt.title(title)\n",
    "plt.show()\n",
    "cia.save(os.path.join(save_path,os.path.splitext(os.path.basename(im_path))[0]+'_'+title+'.png'),optimize=True)\n",
    "ia.close()"
   ]
  }
 ],
 "metadata": {
  "kernelspec": {
   "display_name": "Python 3.10.4 ('pygdal')",
   "language": "python",
   "name": "python3"
  },
  "language_info": {
   "name": "python",
   "version": "3.10.4"
  },
  "orig_nbformat": 4,
  "vscode": {
   "interpreter": {
    "hash": "2457ab65fe5eb43b3c24260abd561bfb1767cbd0218c6203b9ebd3e1ab91b77f"
   }
  }
 },
 "nbformat": 4,
 "nbformat_minor": 2
}
